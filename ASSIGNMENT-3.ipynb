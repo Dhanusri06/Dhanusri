{
 "cells": [
  {
   "cell_type": "code",
   "execution_count": null,
   "id": "93d0441a",
   "metadata": {},
   "outputs": [],
   "source": [
    "1) Write a python function to sum all the numbers in a list. "
   ]
  },
  {
   "cell_type": "code",
   "execution_count": 88,
   "id": "3451b839",
   "metadata": {},
   "outputs": [
    {
     "name": "stdout",
     "output_type": "stream",
     "text": [
      "55\n"
     ]
    }
   ],
   "source": [
    "def sum(num):\n",
    "    total = 0\n",
    "    for x in num:\n",
    "        total += x \n",
    "    return total\n",
    "print (sum((1,2,3,4,5,6,7,8,9,10)))"
   ]
  },
  {
   "cell_type": "code",
   "execution_count": 82,
   "id": "9c4ebc22",
   "metadata": {},
   "outputs": [
    {
     "name": "stdout",
     "output_type": "stream",
     "text": [
      "The original string is = Windowspowershell\n",
      "The reversed string (using loops) is :\n",
      "llehsrewopswodniW\n"
     ]
    }
   ],
   "source": [
    "def reverse(r):\n",
    "    str = \"\"\n",
    "    for i in r:\n",
    "        str = i + str\n",
    "    return str\n",
    "r = \"Windowspowershell\"\n",
    "print(\"The original string is = \", end=\"\")\n",
    "print(r)\n",
    "print(\"The reversed string (using loops) is :\")\n",
    "print(reverse(r))"
   ]
  },
  {
   "cell_type": "code",
   "execution_count": null,
   "id": "589f22c0",
   "metadata": {},
   "outputs": [],
   "source": [
    "3) Write a python function that accepts a string and calculate the number of upper case letters and lower case letters."
   ]
  },
  {
   "cell_type": "code",
   "execution_count": 89,
   "id": "35f1f0fe",
   "metadata": {},
   "outputs": [
    {
     "name": "stdout",
     "output_type": "stream",
     "text": [
      "No.of Upper case chatacters :  6\n",
      "No.of Lower case characters :  21\n"
     ]
    }
   ],
   "source": [
    "def string_test(s):\n",
    "    d={\"UPPER_CASE\":0, \"LOWER_CASE\":0}\n",
    "    for c in s:\n",
    "        if c.isupper():\n",
    "           d[\"UPPER_CASE\"]+=1\n",
    "        elif c.islower():\n",
    "           d[\"LOWER_CASE\"]+=1\n",
    "        else:\n",
    "           pass\n",
    "    print(\"No.of Upper case chatacters : \", d[\"UPPER_CASE\"])\n",
    "    print(\"No.of Lower case characters : \", d[\"LOWER_CASE\"])\n",
    "        \n",
    "string_test('String Is An Immutable Data Type')"
   ]
  }
 ],
 "metadata": {
  "kernelspec": {
   "display_name": "Python 3 (ipykernel)",
   "language": "python",
   "name": "python3"
  },
  "language_info": {
   "codemirror_mode": {
    "name": "ipython",
    "version": 3
   },
   "file_extension": ".py",
   "mimetype": "text/x-python",
   "name": "python",
   "nbconvert_exporter": "python",
   "pygments_lexer": "ipython3",
   "version": "3.9.13"
  }
 },
 "nbformat": 4,
 "nbformat_minor": 5
}
