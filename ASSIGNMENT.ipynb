{
 "cells": [
  {
   "cell_type": "code",
   "execution_count": null,
   "id": "4a51df01",
   "metadata": {},
   "outputs": [],
   "source": [
    "Write a python program to get the Fibonacci series between 0 to 50"
   ]
  },
  {
   "cell_type": "code",
   "execution_count": 1,
   "id": "1d946355",
   "metadata": {},
   "outputs": [
    {
     "name": "stdout",
     "output_type": "stream",
     "text": [
      "0\n",
      "1\n",
      "1\n",
      "2\n",
      "3\n",
      "5\n",
      "8\n",
      "13\n",
      "21\n",
      "34\n"
     ]
    }
   ],
   "source": [
    "n= 10\n",
    "a= 0\n",
    "b= 1\n",
    "for i in range(10):\n",
    "    print(a)\n",
    "    n=a+b\n",
    "    a=b\n",
    "    b=n"
   ]
  },
  {
   "cell_type": "code",
   "execution_count": null,
   "id": "bb5a5d87",
   "metadata": {},
   "outputs": [],
   "source": [
    "write a python program that accepts a word from the user and reverse it."
   ]
  },
  {
   "cell_type": "code",
   "execution_count": 16,
   "id": "203d9d8f",
   "metadata": {},
   "outputs": [
    {
     "name": "stdout",
     "output_type": "stream",
     "text": [
      "input a word to reverse: ASSIGNMENT\n",
      "TNEMNGISSA\n",
      "\n"
     ]
    }
   ],
   "source": [
    "word = input(\"input a word to reverse: \")\n",
    "\n",
    "for char in range(len(word) - 1, - 1, - 1):\n",
    "    print(word[char], end=\"\")\n",
    "print(\"\\n\")"
   ]
  },
  {
   "cell_type": "code",
   "execution_count": null,
   "id": "c348b8a2",
   "metadata": {},
   "outputs": [],
   "source": [
    "write a python program to count the number of even and odd numbers from a series of numbers."
   ]
  },
  {
   "cell_type": "code",
   "execution_count": 8,
   "id": "f4f9a73d",
   "metadata": {},
   "outputs": [
    {
     "name": "stdout",
     "output_type": "stream",
     "text": [
      "Number of even numbers: 10\n",
      "Number of odd numbers: 10\n"
     ]
    }
   ],
   "source": [
    "numbers = (1,2,3,4,5,6,7,8,9,10,11,12,13,14,15,16,17,18,19,20)\n",
    "# declaring the tuple\n",
    "count_odd = 0\n",
    "count_even = 0\n",
    "for x in numbers:\n",
    "    if not x % 2:\n",
    "        count_even+=1\n",
    "    else:\n",
    "        count_odd+=1\n",
    "print(\"Number of even numbers:\",count_even)\n",
    "print(\"Number of odd numbers:\",count_odd)"
   ]
  }
 ],
 "metadata": {
  "kernelspec": {
   "display_name": "Python 3 (ipykernel)",
   "language": "python",
   "name": "python3"
  },
  "language_info": {
   "codemirror_mode": {
    "name": "ipython",
    "version": 3
   },
   "file_extension": ".py",
   "mimetype": "text/x-python",
   "name": "python",
   "nbconvert_exporter": "python",
   "pygments_lexer": "ipython3",
   "version": "3.9.13"
  }
 },
 "nbformat": 4,
 "nbformat_minor": 5
}
